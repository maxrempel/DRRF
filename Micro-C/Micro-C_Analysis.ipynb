{
 "cells": [
  {
   "cell_type": "code",
   "execution_count": 1,
   "id": "5743a0df",
   "metadata": {
    "ExecuteTime": {
     "end_time": "2024-08-19T02:57:24.441885Z",
     "start_time": "2024-08-19T02:57:19.557627Z"
    }
   },
   "outputs": [],
   "source": [
    "import pandas as pd\n",
    "import seaborn as sns\n",
    "import matplotlib.pyplot as plt"
   ]
  },
  {
   "cell_type": "code",
   "execution_count": 2,
   "id": "cdc74555",
   "metadata": {
    "ExecuteTime": {
     "end_time": "2024-08-19T02:57:24.474214Z",
     "start_time": "2024-08-19T02:57:24.443663Z"
    }
   },
   "outputs": [],
   "source": [
    "from tqdm.notebook import trange, tqdm"
   ]
  },
  {
   "cell_type": "markdown",
   "id": "d49c9a56",
   "metadata": {},
   "source": [
    "# Загрузка данных"
   ]
  },
  {
   "cell_type": "code",
   "execution_count": 3,
   "id": "3b78d7ba",
   "metadata": {
    "ExecuteTime": {
     "end_time": "2024-08-19T02:57:28.891563Z",
     "start_time": "2024-08-19T02:57:25.066699Z"
    }
   },
   "outputs": [
    {
     "data": {
      "text/html": [
       "<div>\n",
       "<style scoped>\n",
       "    .dataframe tbody tr th:only-of-type {\n",
       "        vertical-align: middle;\n",
       "    }\n",
       "\n",
       "    .dataframe tbody tr th {\n",
       "        vertical-align: top;\n",
       "    }\n",
       "\n",
       "    .dataframe thead th {\n",
       "        text-align: right;\n",
       "    }\n",
       "</style>\n",
       "<table border=\"1\" class=\"dataframe\">\n",
       "  <thead>\n",
       "    <tr style=\"text-align: right;\">\n",
       "      <th></th>\n",
       "      <th>chrom</th>\n",
       "      <th>start</th>\n",
       "      <th>end</th>\n",
       "      <th>name</th>\n",
       "      <th>-</th>\n",
       "      <th>strand</th>\n",
       "      <th>point</th>\n",
       "    </tr>\n",
       "  </thead>\n",
       "  <tbody>\n",
       "    <tr>\n",
       "      <th>0</th>\n",
       "      <td>chr1</td>\n",
       "      <td>67108750</td>\n",
       "      <td>67109048</td>\n",
       "      <td>L1P5</td>\n",
       "      <td>262</td>\n",
       "      <td>+</td>\n",
       "      <td>67108899.0</td>\n",
       "    </tr>\n",
       "    <tr>\n",
       "      <th>1</th>\n",
       "      <td>chr1</td>\n",
       "      <td>8388317</td>\n",
       "      <td>8388618</td>\n",
       "      <td>AluYb8</td>\n",
       "      <td>373</td>\n",
       "      <td>-</td>\n",
       "      <td>8388468.0</td>\n",
       "    </tr>\n",
       "  </tbody>\n",
       "</table>\n",
       "</div>"
      ],
      "text/plain": [
       "  chrom     start       end    name    - strand       point\n",
       "0  chr1  67108750  67109048    L1P5  262      +  67108899.0\n",
       "1  chr1   8388317   8388618  AluYb8  373      -   8388468.0"
      ]
     },
     "execution_count": 3,
     "metadata": {},
     "output_type": "execute_result"
    }
   ],
   "source": [
    "rep_df = pd.read_csv('hg38_2020_rmsk.bed', sep='\\t', header=None, names=['chrom', 'start', 'end', 'name', '-', 'strand'])\n",
    "rep_df['point'] = round(rep_df.start + (rep_df.end - rep_df.start) / 2, 0)\n",
    "rep_df.head(2)"
   ]
  },
  {
   "cell_type": "code",
   "execution_count": 4,
   "id": "2948128d",
   "metadata": {
    "ExecuteTime": {
     "end_time": "2024-08-19T02:57:30.473421Z",
     "start_time": "2024-08-19T02:57:28.893337Z"
    }
   },
   "outputs": [],
   "source": [
    "superfam_list = []\n",
    "for family in rep_df.name.tolist():\n",
    "    if 'Alu' in family:\n",
    "        superfamily = 'Alu'\n",
    "    elif 'L1' in family:\n",
    "        superfamily = 'L1'\n",
    "    elif 'L2' in family:\n",
    "        superfamily = 'L2'\n",
    "    elif 'MIR' in family:\n",
    "        superfamily = 'MIR'\n",
    "    elif 'LTR' in family:\n",
    "        superfamily = 'LTR'\n",
    "    elif 'L3' in family:\n",
    "        superfamily = 'L3'\n",
    "    elif 'MLT' in family:\n",
    "        superfamily = 'MLT'\n",
    "    elif 'MER' in family:\n",
    "        superfamily = 'MER'\n",
    "    elif 'THE' in family:\n",
    "        superfamily = 'THE'\n",
    "    else:\n",
    "        superfamiy = family\n",
    "    superfam_list.append(superfamily)\n",
    "    \n",
    "rep_df['superfamily'] = superfam_list"
   ]
  },
  {
   "cell_type": "code",
   "execution_count": 5,
   "id": "c9e59ea9",
   "metadata": {
    "ExecuteTime": {
     "end_time": "2024-08-19T02:57:30.776169Z",
     "start_time": "2024-08-19T02:57:30.475766Z"
    }
   },
   "outputs": [
    {
     "data": {
      "text/plain": [
       "name\n",
       "MIRb     231470\n",
       "MIR      191908\n",
       "AluSx    168481\n",
       "L2c      161344\n",
       "L2b      143963\n",
       "L2a      141633\n",
       "AluJb    139520\n",
       "AluJr    108744\n",
       "MIRc     102225\n",
       "AluSg    100494\n",
       "Name: count, dtype: int64"
      ]
     },
     "execution_count": 5,
     "metadata": {},
     "output_type": "execute_result"
    }
   ],
   "source": [
    "rep_df.name.value_counts().iloc[:10]#.index[0]"
   ]
  },
  {
   "cell_type": "code",
   "execution_count": 6,
   "id": "62a7d22a",
   "metadata": {
    "ExecuteTime": {
     "end_time": "2024-08-19T02:57:30.965556Z",
     "start_time": "2024-08-19T02:57:30.777722Z"
    }
   },
   "outputs": [
    {
     "data": {
      "text/plain": [
       "superfamily\n",
       "Alu    1593422\n",
       "L1     1379417\n",
       "MIR     862336\n",
       "L2      774530\n",
       "MER     567382\n",
       "MLT     396428\n",
       "LTR     299925\n",
       "THE      74205\n",
       "L3       62387\n",
       "Name: count, dtype: int64"
      ]
     },
     "execution_count": 6,
     "metadata": {},
     "output_type": "execute_result"
    }
   ],
   "source": [
    "rep_df.superfamily.value_counts().iloc[:10]#.index[0]"
   ]
  },
  {
   "cell_type": "code",
   "execution_count": 7,
   "id": "8c37fecf",
   "metadata": {
    "ExecuteTime": {
     "end_time": "2024-08-19T02:57:31.008771Z",
     "start_time": "2024-08-19T02:57:30.966577Z"
    }
   },
   "outputs": [
    {
     "data": {
      "text/html": [
       "<div>\n",
       "<style scoped>\n",
       "    .dataframe tbody tr th:only-of-type {\n",
       "        vertical-align: middle;\n",
       "    }\n",
       "\n",
       "    .dataframe tbody tr th {\n",
       "        vertical-align: top;\n",
       "    }\n",
       "\n",
       "    .dataframe thead th {\n",
       "        text-align: right;\n",
       "    }\n",
       "</style>\n",
       "<table border=\"1\" class=\"dataframe\">\n",
       "  <thead>\n",
       "    <tr style=\"text-align: right;\">\n",
       "      <th></th>\n",
       "      <th>chr</th>\n",
       "      <th>LP1</th>\n",
       "      <th>LP2</th>\n",
       "    </tr>\n",
       "  </thead>\n",
       "  <tbody>\n",
       "    <tr>\n",
       "      <th>0</th>\n",
       "      <td>chrY</td>\n",
       "      <td>8783767</td>\n",
       "      <td>8783820</td>\n",
       "    </tr>\n",
       "    <tr>\n",
       "      <th>1</th>\n",
       "      <td>chrY</td>\n",
       "      <td>386892</td>\n",
       "      <td>386872</td>\n",
       "    </tr>\n",
       "  </tbody>\n",
       "</table>\n",
       "</div>"
      ],
      "text/plain": [
       "    chr      LP1      LP2\n",
       "0  chrY  8783767  8783820\n",
       "1  chrY   386892   386872"
      ]
     },
     "execution_count": 7,
     "metadata": {},
     "output_type": "execute_result"
    }
   ],
   "source": [
    "lp_df_1 = pd.read_csv('dataset1_simplified_LPs.tsv', sep='\\t')\n",
    "lp_df_2 = pd.read_csv('dataset2_simplified_LPs.tsv', sep='\\t')\n",
    "lp_df_2.head(2)"
   ]
  },
  {
   "cell_type": "markdown",
   "id": "65fb6101",
   "metadata": {},
   "source": [
    "# Анализ"
   ]
  },
  {
   "cell_type": "code",
   "execution_count": 8,
   "id": "d6eafc42",
   "metadata": {
    "ExecuteTime": {
     "end_time": "2024-08-19T02:57:31.011685Z",
     "start_time": "2024-08-19T02:57:31.009793Z"
    }
   },
   "outputs": [],
   "source": [
    "flang_length = 50000\n",
    "bin_size = 10000\n",
    "bin_num = int(flang_length * 2 / bin_size)"
   ]
  },
  {
   "cell_type": "code",
   "execution_count": 9,
   "id": "b379b0cd",
   "metadata": {
    "ExecuteTime": {
     "end_time": "2024-08-19T02:57:31.015993Z",
     "start_time": "2024-08-19T02:57:31.012591Z"
    }
   },
   "outputs": [],
   "source": [
    "def get_bin_list(lp_df, el_df):\n",
    "    \n",
    "    global_bin_list_lp1 = []\n",
    "    for lp in tqdm(lp_df.LP1.tolist()):\n",
    "\n",
    "        start = lp - flang_length\n",
    "        end = lp + flang_length\n",
    "\n",
    "        bin_list = []\n",
    "        for i in range(start, end, bin_size):\n",
    "            c = el_df[(el_df.start >= i) & (el_df.end <= i + bin_size)].shape[0]\n",
    "            bin_list.append(c)\n",
    "        global_bin_list_lp1.append(bin_list)\n",
    "        \n",
    "    global_bin_list_lp2 = []\n",
    "    for lp in tqdm(lp_df.LP2.tolist()):\n",
    "\n",
    "        start = lp - flang_length\n",
    "        end = lp + flang_length\n",
    "\n",
    "        bin_list = []\n",
    "        for i in range(start, end, bin_size):\n",
    "            c = el_df[(el_df.start >= i) & (el_df.end <= i + bin_size)].shape[0]\n",
    "            bin_list.append(c)\n",
    "        global_bin_list_lp2.append(bin_list)\n",
    "        \n",
    "    return global_bin_list_lp1, global_bin_list_lp2"
   ]
  },
  {
   "cell_type": "code",
   "execution_count": 10,
   "id": "bdcff728",
   "metadata": {
    "ExecuteTime": {
     "end_time": "2024-08-19T03:04:07.952601Z",
     "start_time": "2024-08-19T02:57:31.017006Z"
    }
   },
   "outputs": [
    {
     "data": {
      "application/vnd.jupyter.widget-view+json": {
       "model_id": "f51597ce703a4eec82a817dda42de5c4",
       "version_major": 2,
       "version_minor": 0
      },
      "text/plain": [
       "  0%|          | 0/3125 [00:00<?, ?it/s]"
      ]
     },
     "metadata": {},
     "output_type": "display_data"
    },
    {
     "data": {
      "application/vnd.jupyter.widget-view+json": {
       "model_id": "c1f49f729bb24ecbbbec4b13c9516e04",
       "version_major": 2,
       "version_minor": 0
      },
      "text/plain": [
       "  0%|          | 0/3125 [00:00<?, ?it/s]"
      ]
     },
     "metadata": {},
     "output_type": "display_data"
    },
    {
     "data": {
      "application/vnd.jupyter.widget-view+json": {
       "model_id": "8a5a9e2719594691830ce00c26dc84b1",
       "version_major": 2,
       "version_minor": 0
      },
      "text/plain": [
       "  0%|          | 0/3383 [00:00<?, ?it/s]"
      ]
     },
     "metadata": {},
     "output_type": "display_data"
    },
    {
     "data": {
      "application/vnd.jupyter.widget-view+json": {
       "model_id": "3584b56097df46d3a24e56632d054029",
       "version_major": 2,
       "version_minor": 0
      },
      "text/plain": [
       "  0%|          | 0/3383 [00:00<?, ?it/s]"
      ]
     },
     "metadata": {},
     "output_type": "display_data"
    },
    {
     "data": {
      "application/vnd.jupyter.widget-view+json": {
       "model_id": "c412c256d14045028dd379b71c5bb8dd",
       "version_major": 2,
       "version_minor": 0
      },
      "text/plain": [
       "  0%|          | 0/3125 [00:00<?, ?it/s]"
      ]
     },
     "metadata": {},
     "output_type": "display_data"
    },
    {
     "data": {
      "application/vnd.jupyter.widget-view+json": {
       "model_id": "01ef8fca111e42969b0d04e104c0783a",
       "version_major": 2,
       "version_minor": 0
      },
      "text/plain": [
       "  0%|          | 0/3125 [00:00<?, ?it/s]"
      ]
     },
     "metadata": {},
     "output_type": "display_data"
    },
    {
     "data": {
      "application/vnd.jupyter.widget-view+json": {
       "model_id": "fa9588d4207b4393b5fecaeeedd163fd",
       "version_major": 2,
       "version_minor": 0
      },
      "text/plain": [
       "  0%|          | 0/3383 [00:00<?, ?it/s]"
      ]
     },
     "metadata": {},
     "output_type": "display_data"
    },
    {
     "data": {
      "application/vnd.jupyter.widget-view+json": {
       "model_id": "a1c7f932b0c244f0a1b8dd2e966f028c",
       "version_major": 2,
       "version_minor": 0
      },
      "text/plain": [
       "  0%|          | 0/3383 [00:00<?, ?it/s]"
      ]
     },
     "metadata": {},
     "output_type": "display_data"
    },
    {
     "ename": "ValueError",
     "evalue": "All arrays must be of the same length",
     "output_type": "error",
     "traceback": [
      "\u001b[0;31m---------------------------------------------------------------------------\u001b[0m",
      "\u001b[0;31mValueError\u001b[0m                                Traceback (most recent call last)",
      "Cell \u001b[0;32mIn[10], line 29\u001b[0m\n\u001b[1;32m     27\u001b[0m strand \u001b[38;5;241m=\u001b[39m [\u001b[38;5;124m'\u001b[39m\u001b[38;5;124m+\u001b[39m\u001b[38;5;124m'\u001b[39m] \u001b[38;5;241m*\u001b[39m bin_num \u001b[38;5;241m*\u001b[39m \u001b[38;5;241m4\u001b[39m \u001b[38;5;241m+\u001b[39m [\u001b[38;5;124m'\u001b[39m\u001b[38;5;124m-\u001b[39m\u001b[38;5;124m'\u001b[39m] \u001b[38;5;241m*\u001b[39m bin_num \u001b[38;5;241m*\u001b[39m \u001b[38;5;241m4\u001b[39m\n\u001b[1;32m     28\u001b[0m coord \u001b[38;5;241m=\u001b[39m \u001b[38;5;28mlist\u001b[39m(\u001b[38;5;28mrange\u001b[39m(\u001b[38;5;241m-\u001b[39m\u001b[38;5;241m50000\u001b[39m, \u001b[38;5;241m50000\u001b[39m, \u001b[38;5;241m1000\u001b[39m)) \u001b[38;5;241m*\u001b[39m \u001b[38;5;241m8\u001b[39m\n\u001b[0;32m---> 29\u001b[0m df \u001b[38;5;241m=\u001b[39m pd\u001b[38;5;241m.\u001b[39mDataFrame({\u001b[38;5;124m'\u001b[39m\u001b[38;5;124mcoord\u001b[39m\u001b[38;5;124m'\u001b[39m:coord, \u001b[38;5;124m'\u001b[39m\u001b[38;5;124mvalues\u001b[39m\u001b[38;5;124m'\u001b[39m:values, \u001b[38;5;124m'\u001b[39m\u001b[38;5;124mnames\u001b[39m\u001b[38;5;124m'\u001b[39m:names, \u001b[38;5;124m'\u001b[39m\u001b[38;5;124mstrand\u001b[39m\u001b[38;5;124m'\u001b[39m:strand})\n\u001b[1;32m     31\u001b[0m \u001b[38;5;66;03m# Create plot\u001b[39;00m\n\u001b[1;32m     32\u001b[0m sns\u001b[38;5;241m.\u001b[39mset_theme(rc\u001b[38;5;241m=\u001b[39m{\u001b[38;5;124m'\u001b[39m\u001b[38;5;124mfigure.figsize\u001b[39m\u001b[38;5;124m'\u001b[39m:(\u001b[38;5;241m15\u001b[39m,\u001b[38;5;241m8\u001b[39m)}, style\u001b[38;5;241m=\u001b[39m\u001b[38;5;124m\"\u001b[39m\u001b[38;5;124mwhitegrid\u001b[39m\u001b[38;5;124m\"\u001b[39m, font_scale\u001b[38;5;241m=\u001b[39m\u001b[38;5;241m1.2\u001b[39m)\n",
      "File \u001b[0;32m~/soft/miniconda3/envs/jupyter/lib/python3.11/site-packages/pandas/core/frame.py:708\u001b[0m, in \u001b[0;36mDataFrame.__init__\u001b[0;34m(self, data, index, columns, dtype, copy)\u001b[0m\n\u001b[1;32m    702\u001b[0m     mgr \u001b[38;5;241m=\u001b[39m \u001b[38;5;28mself\u001b[39m\u001b[38;5;241m.\u001b[39m_init_mgr(\n\u001b[1;32m    703\u001b[0m         data, axes\u001b[38;5;241m=\u001b[39m{\u001b[38;5;124m\"\u001b[39m\u001b[38;5;124mindex\u001b[39m\u001b[38;5;124m\"\u001b[39m: index, \u001b[38;5;124m\"\u001b[39m\u001b[38;5;124mcolumns\u001b[39m\u001b[38;5;124m\"\u001b[39m: columns}, dtype\u001b[38;5;241m=\u001b[39mdtype, copy\u001b[38;5;241m=\u001b[39mcopy\n\u001b[1;32m    704\u001b[0m     )\n\u001b[1;32m    706\u001b[0m \u001b[38;5;28;01melif\u001b[39;00m \u001b[38;5;28misinstance\u001b[39m(data, \u001b[38;5;28mdict\u001b[39m):\n\u001b[1;32m    707\u001b[0m     \u001b[38;5;66;03m# GH#38939 de facto copy defaults to False only in non-dict cases\u001b[39;00m\n\u001b[0;32m--> 708\u001b[0m     mgr \u001b[38;5;241m=\u001b[39m dict_to_mgr(data, index, columns, dtype\u001b[38;5;241m=\u001b[39mdtype, copy\u001b[38;5;241m=\u001b[39mcopy, typ\u001b[38;5;241m=\u001b[39mmanager)\n\u001b[1;32m    709\u001b[0m \u001b[38;5;28;01melif\u001b[39;00m \u001b[38;5;28misinstance\u001b[39m(data, ma\u001b[38;5;241m.\u001b[39mMaskedArray):\n\u001b[1;32m    710\u001b[0m     \u001b[38;5;28;01mfrom\u001b[39;00m \u001b[38;5;21;01mnumpy\u001b[39;00m\u001b[38;5;21;01m.\u001b[39;00m\u001b[38;5;21;01mma\u001b[39;00m \u001b[38;5;28;01mimport\u001b[39;00m mrecords\n",
      "File \u001b[0;32m~/soft/miniconda3/envs/jupyter/lib/python3.11/site-packages/pandas/core/internals/construction.py:481\u001b[0m, in \u001b[0;36mdict_to_mgr\u001b[0;34m(data, index, columns, dtype, typ, copy)\u001b[0m\n\u001b[1;32m    477\u001b[0m     \u001b[38;5;28;01melse\u001b[39;00m:\n\u001b[1;32m    478\u001b[0m         \u001b[38;5;66;03m# dtype check to exclude e.g. range objects, scalars\u001b[39;00m\n\u001b[1;32m    479\u001b[0m         arrays \u001b[38;5;241m=\u001b[39m [x\u001b[38;5;241m.\u001b[39mcopy() \u001b[38;5;28;01mif\u001b[39;00m \u001b[38;5;28mhasattr\u001b[39m(x, \u001b[38;5;124m\"\u001b[39m\u001b[38;5;124mdtype\u001b[39m\u001b[38;5;124m\"\u001b[39m) \u001b[38;5;28;01melse\u001b[39;00m x \u001b[38;5;28;01mfor\u001b[39;00m x \u001b[38;5;129;01min\u001b[39;00m arrays]\n\u001b[0;32m--> 481\u001b[0m \u001b[38;5;28;01mreturn\u001b[39;00m arrays_to_mgr(arrays, columns, index, dtype\u001b[38;5;241m=\u001b[39mdtype, typ\u001b[38;5;241m=\u001b[39mtyp, consolidate\u001b[38;5;241m=\u001b[39mcopy)\n",
      "File \u001b[0;32m~/soft/miniconda3/envs/jupyter/lib/python3.11/site-packages/pandas/core/internals/construction.py:115\u001b[0m, in \u001b[0;36marrays_to_mgr\u001b[0;34m(arrays, columns, index, dtype, verify_integrity, typ, consolidate)\u001b[0m\n\u001b[1;32m    112\u001b[0m \u001b[38;5;28;01mif\u001b[39;00m verify_integrity:\n\u001b[1;32m    113\u001b[0m     \u001b[38;5;66;03m# figure out the index, if necessary\u001b[39;00m\n\u001b[1;32m    114\u001b[0m     \u001b[38;5;28;01mif\u001b[39;00m index \u001b[38;5;129;01mis\u001b[39;00m \u001b[38;5;28;01mNone\u001b[39;00m:\n\u001b[0;32m--> 115\u001b[0m         index \u001b[38;5;241m=\u001b[39m _extract_index(arrays)\n\u001b[1;32m    116\u001b[0m     \u001b[38;5;28;01melse\u001b[39;00m:\n\u001b[1;32m    117\u001b[0m         index \u001b[38;5;241m=\u001b[39m ensure_index(index)\n",
      "File \u001b[0;32m~/soft/miniconda3/envs/jupyter/lib/python3.11/site-packages/pandas/core/internals/construction.py:655\u001b[0m, in \u001b[0;36m_extract_index\u001b[0;34m(data)\u001b[0m\n\u001b[1;32m    653\u001b[0m lengths \u001b[38;5;241m=\u001b[39m \u001b[38;5;28mlist\u001b[39m(\u001b[38;5;28mset\u001b[39m(raw_lengths))\n\u001b[1;32m    654\u001b[0m \u001b[38;5;28;01mif\u001b[39;00m \u001b[38;5;28mlen\u001b[39m(lengths) \u001b[38;5;241m>\u001b[39m \u001b[38;5;241m1\u001b[39m:\n\u001b[0;32m--> 655\u001b[0m     \u001b[38;5;28;01mraise\u001b[39;00m \u001b[38;5;167;01mValueError\u001b[39;00m(\u001b[38;5;124m\"\u001b[39m\u001b[38;5;124mAll arrays must be of the same length\u001b[39m\u001b[38;5;124m\"\u001b[39m)\n\u001b[1;32m    657\u001b[0m \u001b[38;5;28;01mif\u001b[39;00m have_dicts:\n\u001b[1;32m    658\u001b[0m     \u001b[38;5;28;01mraise\u001b[39;00m \u001b[38;5;167;01mValueError\u001b[39;00m(\n\u001b[1;32m    659\u001b[0m         \u001b[38;5;124m\"\u001b[39m\u001b[38;5;124mMixing dicts with non-Series may lead to ambiguous ordering.\u001b[39m\u001b[38;5;124m\"\u001b[39m\n\u001b[1;32m    660\u001b[0m     )\n",
      "\u001b[0;31mValueError\u001b[0m: All arrays must be of the same length"
     ]
    }
   ],
   "source": [
    "for el in rep_df.superfamily.value_counts().iloc[:9].index:\n",
    "    el_df = rep_df[rep_df['superfamily'] == el]\n",
    "    el_df_plus = rep_df[(rep_df['superfamily'] == el) & (rep_df['strand'] == '+')]\n",
    "    el_df_minus = rep_df[(rep_df['superfamily'] == el) & (rep_df['strand'] == '-')]\n",
    "    \n",
    "    # Get bin lists\n",
    "    global_bin_list_lp1_ds1_plus, global_bin_list_lp2_ds1_plus = get_bin_list(lp_df_1, el_df_plus)\n",
    "    global_bin_list_lp1_ds2_plus, global_bin_list_lp2_ds2_plus = get_bin_list(lp_df_2, el_df_plus)\n",
    "    global_bin_list_lp1_ds1_minus, global_bin_list_lp2_ds1_minus = get_bin_list(lp_df_1, el_df_minus)\n",
    "    global_bin_list_lp1_ds2_minus, global_bin_list_lp2_ds2_minus = get_bin_list(lp_df_2, el_df_minus)\n",
    "    \n",
    "    \n",
    "    normalization_score = round(pd.DataFrame(global_bin_list_lp1_ds1_plus).mean().mean() / 2, 1)\n",
    "    mean_list_lp1_ds1_plus = (pd.DataFrame(global_bin_list_lp1_ds1_plus).mean() + normalization_score).tolist()\n",
    "    mean_list_lp2_ds1_plus = (pd.DataFrame(global_bin_list_lp2_ds1_plus).mean() + normalization_score).tolist()\n",
    "    mean_list_lp1_ds2_plus = pd.DataFrame(global_bin_list_lp1_ds2_plus).mean().tolist()\n",
    "    mean_list_lp2_ds2_plus = pd.DataFrame(global_bin_list_lp2_ds2_plus).mean().tolist()\n",
    "    \n",
    "    mean_list_lp1_ds1_minus = (pd.DataFrame(global_bin_list_lp1_ds1_minus).mean() + normalization_score).tolist()\n",
    "    mean_list_lp2_ds1_minus = (pd.DataFrame(global_bin_list_lp2_ds1_minus).mean() + normalization_score).tolist()\n",
    "    mean_list_lp1_ds2_minus = pd.DataFrame(global_bin_list_lp1_ds2_minus).mean().tolist()\n",
    "    mean_list_lp2_ds2_minus = pd.DataFrame(global_bin_list_lp2_ds2_minus).mean().tolist()\n",
    "    \n",
    "    # Create density dataframe\n",
    "    values = mean_list_lp1_ds1_plus + mean_list_lp2_ds1_plus + mean_list_lp1_ds2_plus + mean_list_lp2_ds2_plus + mean_list_lp1_ds1_minus + mean_list_lp2_ds1_minus + mean_list_lp1_ds2_minus + mean_list_lp2_ds2_minus\n",
    "    names = [f'LP1_Dataset1_YS+{normalization_score}'] * bin_num + [f'LP2_Dataset1_YS+{normalization_score}'] * bin_num + ['LP1_Dataset2'] * bin_num + ['LP2_Dataset2'] * bin_num + [f'LP1_Dataset1_YS+{normalization_score}'] * bin_num + [f'LP2_Dataset1_YS+{normalization_score}'] * bin_num + ['LP1_Dataset2'] * bin_num + ['LP2_Dataset2'] * bin_num\n",
    "    strand = ['+'] * bin_num * 4 + ['-'] * bin_num * 4\n",
    "    coord = list(range(-50000, 50000, 1000)) * 8\n",
    "    df = pd.DataFrame({'coord':coord, 'values':values, 'names':names, 'strand':strand})\n",
    "    \n",
    "    # Create plot\n",
    "    sns.set_theme(rc={'figure.figsize':(15,8)}, style=\"whitegrid\", font_scale=1.2)\n",
    "    ax = None\n",
    "    fig, ax = plt.subplots(1, 1)\n",
    "    sns.lineplot(data=df, x=coord, y='values', hue='names', style=\"strand\", ax=ax)\n",
    "    ax.set(xlabel='Distance from ligation point', ylabel='Density', title=f'{el} mobile element density around LP')\n",
    "    ax.set_xticks(range(-50000, 50000, 10000));\n",
    "    ax.legend(bbox_to_anchor=(1.05, 1), loc=2, borderaxespad=0.);\n",
    "\n",
    "    # Save plot\n",
    "    fig = ax.get_figure()\n",
    "    fig.savefig(f'{el}.png',pad_inches=0.5, bbox_inches='tight')\n",
    "    plt.close()\n",
    "    \n",
    "    df.to_csv(f'{el}_plot_data.csv', index=False)"
   ]
  },
  {
   "cell_type": "code",
   "execution_count": null,
   "id": "31ce7a19",
   "metadata": {},
   "outputs": [],
   "source": []
  },
  {
   "cell_type": "code",
   "execution_count": null,
   "id": "4cf4d90d",
   "metadata": {},
   "outputs": [],
   "source": []
  },
  {
   "cell_type": "code",
   "execution_count": null,
   "id": "620aaca1",
   "metadata": {},
   "outputs": [],
   "source": []
  },
  {
   "cell_type": "code",
   "execution_count": null,
   "id": "ec89e371",
   "metadata": {},
   "outputs": [],
   "source": []
  },
  {
   "cell_type": "code",
   "execution_count": 14,
   "id": "b4a67a35",
   "metadata": {
    "ExecuteTime": {
     "end_time": "2024-08-16T06:19:54.232576Z",
     "start_time": "2024-08-16T06:19:53.678874Z"
    }
   },
   "outputs": [],
   "source": [
    "plt.close()\n",
    "\n",
    "normalization_score = pd.DataFrame(global_bin_list_lp1_ds1_plus).mean().mean() / 2\n",
    "mean_list_lp1_ds1_plus = (pd.DataFrame(global_bin_list_lp1_ds1_plus).mean() + normalization_score).tolist()\n",
    "mean_list_lp2_ds1_plus = (pd.DataFrame(global_bin_list_lp2_ds1_plus).mean() + normalization_score).tolist()\n",
    "mean_list_lp1_ds2_plus = pd.DataFrame(global_bin_list_lp1_ds2_plus).mean().tolist()\n",
    "mean_list_lp2_ds2_plus = pd.DataFrame(global_bin_list_lp2_ds2_plus).mean().tolist()\n",
    "\n",
    "mean_list_lp1_ds1_minus = (pd.DataFrame(global_bin_list_lp1_ds1_minus).mean() + normalization_score).tolist()\n",
    "mean_list_lp2_ds1_minus = (pd.DataFrame(global_bin_list_lp2_ds1_minus).mean() + normalization_score).tolist()\n",
    "mean_list_lp1_ds2_minus = pd.DataFrame(global_bin_list_lp1_ds2_minus).mean().tolist()\n",
    "mean_list_lp2_ds2_minus = pd.DataFrame(global_bin_list_lp2_ds2_minus).mean().tolist()\n",
    "\n",
    "values = mean_list_lp1_ds1_plus + mean_list_lp2_ds1_plus + mean_list_lp1_ds2_plus + mean_list_lp2_ds2_plus + mean_list_lp1_ds1_minus + mean_list_lp2_ds1_minus + mean_list_lp1_ds2_minus + mean_list_lp2_ds2_minus\n",
    "names = ['Exbor1_Dataset1'] * bin_num + ['Exbor2_Dataset1'] * bin_num + ['Exbor1_Dataset2'] * bin_num + ['Exbor2_Dataset2'] * bin_num + ['Exbor1_Dataset1'] * bin_num + ['Exbor2_Dataset1'] * bin_num + ['Exbor1_Dataset2'] * bin_num + ['Exbor2_Dataset2'] * bin_num\n",
    "strand = ['+'] * bin_num * 4 + ['-'] * bin_num * 4\n",
    "coord = list(range(-50000, 50000, 1000)) * 8\n",
    "df = pd.DataFrame({'coord':coord, 'values':values, 'names':names, 'strand':strand})\n",
    "\n",
    "# Create plot\n",
    "sns.set_theme(rc={'figure.figsize':(15,8)}, style=\"whitegrid\", font_scale=1.2)\n",
    "ax = None\n",
    "fig, ax = plt.subplots(1, 1)\n",
    "sns.lineplot(data=df, x=coord, y='values', hue='names', style=\"strand\", ax=ax)\n",
    "ax.set(xlabel='Distance from ligation point', ylabel='Density', title=f'{el} mobile element density around LP')\n",
    "ax.set_xticks(range(-50000, 50000, 10000));\n",
    "ax.legend(loc='center left', bbox_to_anchor=(1, 0.5));\n",
    "\n",
    "# Save plot\n",
    "fig = ax.get_figure()\n",
    "fig.savefig(f'{el}.png',pad_inches=0.5, bbox_inches='tight')\n",
    "plt.close()"
   ]
  },
  {
   "cell_type": "code",
   "execution_count": 36,
   "id": "4eddd0b9",
   "metadata": {
    "ExecuteTime": {
     "end_time": "2024-08-16T03:34:22.288241Z",
     "start_time": "2024-08-16T03:34:22.227076Z"
    }
   },
   "outputs": [
    {
     "data": {
      "text/plain": [
       "0.6630653266331659"
      ]
     },
     "execution_count": 36,
     "metadata": {},
     "output_type": "execute_result"
    }
   ],
   "source": [
    "pd.DataFrame(global_bin_list_lp1_ds2_minus).mean().mean() * 5"
   ]
  },
  {
   "cell_type": "code",
   "execution_count": 14,
   "id": "3eeff0ea",
   "metadata": {
    "ExecuteTime": {
     "end_time": "2024-08-16T03:03:02.008936Z",
     "start_time": "2024-08-16T03:03:01.657495Z"
    }
   },
   "outputs": [
    {
     "data": {
      "text/plain": [
       "name\n",
       "A-rich    52142\n",
       "Name: count, dtype: int64"
      ]
     },
     "execution_count": 14,
     "metadata": {},
     "output_type": "execute_result"
    }
   ],
   "source": [
    "rep_df.name.value_counts().iloc[19:20]"
   ]
  },
  {
   "cell_type": "code",
   "execution_count": 18,
   "id": "89ae0ba3",
   "metadata": {
    "ExecuteTime": {
     "end_time": "2024-08-16T03:03:42.962292Z",
     "start_time": "2024-08-16T03:03:42.673601Z"
    }
   },
   "outputs": [
    {
     "data": {
      "text/plain": [
       "strand\n",
       "+    52142\n",
       "Name: count, dtype: int64"
      ]
     },
     "execution_count": 18,
     "metadata": {},
     "output_type": "execute_result"
    }
   ],
   "source": [
    "rep_df[rep_df.name == 'A-rich'].strand.value_counts()"
   ]
  }
 ],
 "metadata": {
  "kernelspec": {
   "display_name": "Python 3 (ipykernel)",
   "language": "python",
   "name": "python3"
  },
  "language_info": {
   "codemirror_mode": {
    "name": "ipython",
    "version": 3
   },
   "file_extension": ".py",
   "mimetype": "text/x-python",
   "name": "python",
   "nbconvert_exporter": "python",
   "pygments_lexer": "ipython3",
   "version": "3.11.2"
  },
  "toc": {
   "base_numbering": 1,
   "nav_menu": {},
   "number_sections": true,
   "sideBar": true,
   "skip_h1_title": false,
   "title_cell": "Table of Contents",
   "title_sidebar": "Contents",
   "toc_cell": false,
   "toc_position": {},
   "toc_section_display": true,
   "toc_window_display": false
  },
  "varInspector": {
   "cols": {
    "lenName": 16,
    "lenType": 16,
    "lenVar": 40
   },
   "kernels_config": {
    "python": {
     "delete_cmd_postfix": "",
     "delete_cmd_prefix": "del ",
     "library": "var_list.py",
     "varRefreshCmd": "print(var_dic_list())"
    },
    "r": {
     "delete_cmd_postfix": ") ",
     "delete_cmd_prefix": "rm(",
     "library": "var_list.r",
     "varRefreshCmd": "cat(var_dic_list()) "
    }
   },
   "types_to_exclude": [
    "module",
    "function",
    "builtin_function_or_method",
    "instance",
    "_Feature"
   ],
   "window_display": false
  }
 },
 "nbformat": 4,
 "nbformat_minor": 5
}
